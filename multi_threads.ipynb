{
 "cells": [
  {
   "cell_type": "markdown",
   "metadata": {},
   "source": [
    "### GIL锁\n",
    "\n",
    "熟悉python的都知道，在C语言写的python解释器中存在全局解释器锁，由于全局解释器锁的存在，在同一时间内，python解释器只能运行一个线程的代码，这大大影响了python多线程的性能。而这个解释器锁由于历史原因，现在几乎无法消除。 \n",
    "  \n",
    "python GIL 之所以会影响多线程等性能，是因为在多线程的情况下，只有当线程获得了一个全局锁的时候，那么该线程的代码才能运行，而全局锁只有一个，所以使用python多线程，在同一时刻也只有一个线程在运行，因此在即使在多核的情况下也只能发挥出单核的性能。\n",
    "\n",
    "上述内容引用自链接：https://www.jianshu.com/p/c75ed8a6e9af  \n"
   ]
  },
  {
   "cell_type": "code",
   "execution_count": 14,
   "metadata": {},
   "outputs": [],
   "source": [
    "from concurrent.futures import ThreadPoolExecutor"
   ]
  },
  {
   "cell_type": "code",
   "execution_count": 15,
   "metadata": {},
   "outputs": [],
   "source": [
    "# Worker数量\n",
    "N = 4"
   ]
  },
  {
   "cell_type": "code",
   "execution_count": 16,
   "metadata": {},
   "outputs": [],
   "source": [
    "# 线程池\n",
    "pool = ThreadPoolExecutor(max_workers=N)"
   ]
  },
  {
   "cell_type": "markdown",
   "metadata": {},
   "source": [
    "### 1. IO密集型操作\n",
    "一个线程执行IO密集型操作的时候，CPU处于闲置状态，因此GIL会被释放给其他线程，从而缩短了总体的等待运行时间。"
   ]
  },
  {
   "cell_type": "code",
   "execution_count": 17,
   "metadata": {},
   "outputs": [],
   "source": [
    "from time import sleep, time"
   ]
  },
  {
   "cell_type": "code",
   "execution_count": 18,
   "metadata": {},
   "outputs": [],
   "source": [
    "def sleep_n_seconds(n=4):\n",
    "    sleep(n)\n",
    "    return True"
   ]
  },
  {
   "cell_type": "code",
   "execution_count": 19,
   "metadata": {},
   "outputs": [],
   "source": [
    "# 串行版本\n",
    "\n",
    "def serial_func(fn, n_times=N):\n",
    "    ret = []\n",
    "    for _ in range(n_times):\n",
    "        ret.append(fn())\n",
    "    print(ret)"
   ]
  },
  {
   "cell_type": "code",
   "execution_count": 20,
   "metadata": {},
   "outputs": [],
   "source": [
    "# 多线程版本，注意要传输lambda函数，sleep时间是准确的\n",
    "\n",
    "def concurrent_func(fn, n_times=N):\n",
    "    print(list(pool.map(lambda x: fn(), range(n_times))))\n",
    "    "
   ]
  },
  {
   "cell_type": "code",
   "execution_count": 31,
   "metadata": {},
   "outputs": [],
   "source": [
    "def time_it(fn, way):\n",
    "    assert way in (\"serial\", \"concurrent\"), \"参数way必须是'serial'或者'concurrent'！\"\n",
    "    f = {\"serial\":serial_func, \"concurrent\": concurrent_func}[way]\n",
    "    start = time()\n",
    "    f(fn)\n",
    "    print(\"%s版本的运行时间为 %.5f 秒!\" % (way, time() - start))"
   ]
  },
  {
   "cell_type": "code",
   "execution_count": 22,
   "metadata": {},
   "outputs": [
    {
     "name": "stdout",
     "output_type": "stream",
     "text": [
      "[True, True, True, True]\n",
      "serial版本的运行时间为 16.012 秒!\n"
     ]
    }
   ],
   "source": [
    "time_it(sleep_n_seconds, \"serial\")"
   ]
  },
  {
   "cell_type": "code",
   "execution_count": 23,
   "metadata": {},
   "outputs": [
    {
     "name": "stdout",
     "output_type": "stream",
     "text": [
      "[True, True, True, True]\n",
      "concurrent版本的运行时间为 4.005 秒!\n"
     ]
    }
   ],
   "source": [
    "time_it(sleep_n_seconds, \"concurrent\")"
   ]
  },
  {
   "cell_type": "markdown",
   "metadata": {},
   "source": [
    "### 2. CPU密集型操作\n",
    "一个线程执行CPU密集型操作的时候，CPU处于忙碌状态，运行1000个字节码之后GIL会被释放给其他线程，加上切换线程的时间反而会比串行代码更慢。"
   ]
  },
  {
   "cell_type": "code",
   "execution_count": 24,
   "metadata": {},
   "outputs": [],
   "source": [
    "def add_one(n_times=10**7):\n",
    "    ret = 0\n",
    "    while ret < n_times:\n",
    "        ret += 1\n",
    "    return ret"
   ]
  },
  {
   "cell_type": "code",
   "execution_count": 25,
   "metadata": {},
   "outputs": [
    {
     "name": "stdout",
     "output_type": "stream",
     "text": [
      "[10000000, 10000000, 10000000, 10000000]\n",
      "serial版本的运行时间为 2.337 秒!\n"
     ]
    }
   ],
   "source": [
    "time_it(add_one, \"serial\")"
   ]
  },
  {
   "cell_type": "code",
   "execution_count": 26,
   "metadata": {},
   "outputs": [
    {
     "name": "stdout",
     "output_type": "stream",
     "text": [
      "[10000000, 10000000, 10000000, 10000000]\n",
      "concurrent版本的运行时间为 2.481 秒!\n"
     ]
    }
   ],
   "source": [
    "time_it(add_one, \"concurrent\")"
   ]
  },
  {
   "cell_type": "markdown",
   "metadata": {},
   "source": [
    "### 3. 绕过GIL锁\n",
    "著名的Cython模块提供了绕过GIL锁的方法，'with nogil'。我们可以用Cython模块重新编写刚才的'add_one'函数，再用python包装为python可调用的函数。代码如下："
   ]
  },
  {
   "cell_type": "code",
   "execution_count": 27,
   "metadata": {},
   "outputs": [
    {
     "name": "stdout",
     "output_type": "stream",
     "text": [
      "The Cython extension is already loaded. To reload it, use:\n",
      "  %reload_ext Cython\n"
     ]
    }
   ],
   "source": [
    "%load_ext Cython"
   ]
  },
  {
   "cell_type": "code",
   "execution_count": 28,
   "metadata": {},
   "outputs": [],
   "source": [
    "%%cython\n",
    "cdef long _add_one(long n_times= 10 ** 7):\n",
    "    cdef long ret = 0\n",
    "    with nogil:\n",
    "        while ret < n_times:\n",
    "            ret += 1\n",
    "    return ret\n",
    "\n",
    "def add_one(n_times=10 ** 7):\n",
    "    return _add_one(n_times)"
   ]
  },
  {
   "cell_type": "code",
   "execution_count": 32,
   "metadata": {},
   "outputs": [
    {
     "name": "stdout",
     "output_type": "stream",
     "text": [
      "[10000000, 10000000, 10000000, 10000000]\n",
      "serial版本的运行时间为 0.00162 秒!\n"
     ]
    }
   ],
   "source": [
    "time_it(add_one, \"serial\")"
   ]
  },
  {
   "cell_type": "code",
   "execution_count": 33,
   "metadata": {},
   "outputs": [
    {
     "name": "stdout",
     "output_type": "stream",
     "text": [
      "[10000000, 10000000, 10000000, 10000000]\n",
      "concurrent版本的运行时间为 0.00053 秒!\n"
     ]
    }
   ],
   "source": [
    "time_it(add_one, \"concurrent\")"
   ]
  },
  {
   "cell_type": "code",
   "execution_count": null,
   "metadata": {},
   "outputs": [],
   "source": []
  }
 ],
 "metadata": {
  "kernelspec": {
   "display_name": "Python 3",
   "language": "python",
   "name": "python3"
  },
  "language_info": {
   "codemirror_mode": {
    "name": "ipython",
    "version": 3
   },
   "file_extension": ".py",
   "mimetype": "text/x-python",
   "name": "python",
   "nbconvert_exporter": "python",
   "pygments_lexer": "ipython3",
   "version": "3.7.2"
  }
 },
 "nbformat": 4,
 "nbformat_minor": 2
}
