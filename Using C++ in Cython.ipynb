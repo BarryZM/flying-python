{
 "cells": [
  {
   "cell_type": "markdown",
   "metadata": {},
   "source": [
    "### 在Cython中使用C++\n",
    "作者 --  tushushu  \n",
    "项目地址 -- https://github.com/tushushu/flying-python"
   ]
  },
  {
   "cell_type": "markdown",
   "metadata": {},
   "source": [
    "## 1. 在Jupyter Notebook上使用C++ \n",
    "- 首先加载Cython扩展，使用魔术命令  ``%load_ext Cython``\n",
    "- 接下来运行Cython代码，使用魔术命令  ``%%cython --cplus``"
   ]
  },
  {
   "cell_type": "code",
   "execution_count": 2,
   "metadata": {},
   "outputs": [],
   "source": [
    "%load_ext Cython"
   ]
  },
  {
   "cell_type": "code",
   "execution_count": 7,
   "metadata": {},
   "outputs": [
    {
     "name": "stdout",
     "output_type": "stream",
     "text": [
      "[1, 2, 3, 4, 5]\n"
     ]
    }
   ],
   "source": [
    "%%cython --cplus\n",
    "from libcpp.vector cimport vector\n",
    "cdef vector[int] v = [1, 2, 3, 4, 5]\n",
    "print(v)"
   ]
  },
  {
   "cell_type": "markdown",
   "metadata": {},
   "source": [
    "## 2. C++和Python类型的相互转换"
   ]
  },
  {
   "cell_type": "code",
   "execution_count": null,
   "metadata": {},
   "outputs": [],
   "source": []
  },
  {
   "cell_type": "markdown",
   "metadata": {},
   "source": [
    "## 3. 使用C++ Vector"
   ]
  },
  {
   "cell_type": "code",
   "execution_count": null,
   "metadata": {},
   "outputs": [],
   "source": []
  },
  {
   "cell_type": "markdown",
   "metadata": {},
   "source": [
    "## 4. 使用C++ Unordered Map"
   ]
  },
  {
   "cell_type": "code",
   "execution_count": null,
   "metadata": {},
   "outputs": [],
   "source": []
  },
  {
   "cell_type": "markdown",
   "metadata": {},
   "source": [
    "## 5. 传值与传引用\n",
    "以int型Vector为例，可以看到v1的值没有被pass_value修改，但被pass_reference修改了。\n",
    "- 传值使用  ``vector[int]``，pass_value函数只是传入了v1的一份拷贝，所以函数无法修改v1\n",
    "- 传引用使用  ``vector[int]&``，pass_reference传入了v1的引用，函数可以修改v1。\n"
   ]
  },
  {
   "cell_type": "code",
   "execution_count": 11,
   "metadata": {},
   "outputs": [
    {
     "name": "stdout",
     "output_type": "stream",
     "text": [
      "v1的初始值是[0, 0, 0]\n",
      "执行pass_value函数后，v1的值是[0, 0, 0]\n",
      "执行pass_reference函数后，v1的值是[-1, 0, 0]\n"
     ]
    }
   ],
   "source": [
    "%%cython --cplus\n",
    "from libcpp.vector cimport vector\n",
    "\n",
    "cdef void pass_value(vector[int] v):\n",
    "    v[0] = -1\n",
    "\n",
    "cdef void pass_reference(vector[int]& v):\n",
    "    v[0] = -1\n",
    "\n",
    "cdef vector[int] v1 = [0, 0, 0]\n",
    "print(\"v1的初始值是%s\" % v1)\n",
    "pass_value(v1)\n",
    "print(\"执行pass_value函数后，v1的值是%s\" % v1)\n",
    "pass_reference(v1)\n",
    "print(\"执行pass_reference函数后，v1的值是%s\" % v1)\n"
   ]
  },
  {
   "cell_type": "code",
   "execution_count": null,
   "metadata": {},
   "outputs": [],
   "source": []
  }
 ],
 "metadata": {
  "kernelspec": {
   "display_name": "Python 3",
   "language": "python",
   "name": "python3"
  },
  "language_info": {
   "codemirror_mode": {
    "name": "ipython",
    "version": 3
   },
   "file_extension": ".py",
   "mimetype": "text/x-python",
   "name": "python",
   "nbconvert_exporter": "python",
   "pygments_lexer": "ipython3",
   "version": "3.7.2"
  }
 },
 "nbformat": 4,
 "nbformat_minor": 2
}
