{
 "cells": [
  {
   "cell_type": "markdown",
   "metadata": {},
   "source": [
    "# 10分钟入门Cython"
   ]
  },
  {
   "cell_type": "markdown",
   "metadata": {},
   "source": [
    "## 1. Cython是什么? \n",
    "Cython是一个编程语言，它通过类似Python的语法来编写C扩展并可以被Python调用.既具备了Python快速开发的特点，又可以让代码运行起来像C一样快，同时还可以方便地调用C library。"
   ]
  },
  {
   "cell_type": "markdown",
   "metadata": {},
   "source": [
    "## 2. 如何安装Cython?\n",
    "跟大多数的Python库不同，Cython需要一个C编译器，在不同的平台上配置方法也不一样。\n",
    "### 2.1 配置gcc\n",
    "- **windows**  \n",
    "安装MingW-w64编译器：``conda install libpython m2w64-toolchain -c msys2``  \n",
    "在Python安装路径下找到\\Lib\\distutils文件夹，创建distutils.cfg写入如下内容：  \n",
    "``[build]\n",
    "compiler=mingw32``\n",
    "\n",
    "- **macOS**   \n",
    "安装XCode即可  \n",
    "\n",
    "- **linux:**  \n",
    "gcc一般都是配置好的，如果没有就执行这条命令：  ``sudo apt-get install build-essential``  \n",
    "\n",
    "\n",
    "### 2.2 安装cython库\n",
    "- 如果没安装Anaconda：  ``pip install cython`` \n",
    "- 如果安装了Anaconda：  ``conda install cython``"
   ]
  },
  {
   "cell_type": "markdown",
   "metadata": {},
   "source": [
    "## 3. 在Jupyter Notebook上使用Cython \n",
    "- 首先加载Cython扩展，使用魔术命令  ``%load_ext Cython``\n",
    "- 接下来运行Cython代码，使用魔术命令  ``%%cython``"
   ]
  },
  {
   "cell_type": "code",
   "execution_count": 58,
   "metadata": {},
   "outputs": [
    {
     "name": "stdout",
     "output_type": "stream",
     "text": [
      "The Cython extension is already loaded. To reload it, use:\n",
      "  %reload_ext Cython\n"
     ]
    }
   ],
   "source": [
    "%load_ext Cython"
   ]
  },
  {
   "cell_type": "code",
   "execution_count": 2,
   "metadata": {},
   "outputs": [
    {
     "name": "stdout",
     "output_type": "stream",
     "text": [
      "45\n"
     ]
    }
   ],
   "source": [
    "%%cython\n",
    "cdef int a = 0\n",
    "for i in range(10):\n",
    "    a += i\n",
    "print(a)"
   ]
  },
  {
   "cell_type": "markdown",
   "metadata": {},
   "source": [
    "## 4. 试试Cython到底有多快\n",
    "- 常规Python函数，运行时间559 ns\n",
    "- Cython def函数，声明一个Python函数，既可以在模块内调用，也可以在模块外调用。模块内运行时间524.2 ns，模块外运行时间512 ns\n",
    "- Cython cpdef函数，声明一个C函数和一个Python wrapper，在模块内被当做C函数调用，在模块外被.py文件当做Python函数调用。模块内运行时间43.7 ns，模块外运行时间81.7 ns\n",
    "- Cython cdef函数，声明一个C函数，不可以在模块外被Python调用。模块内运行时间34.8 ns"
   ]
  },
  {
   "cell_type": "markdown",
   "metadata": {},
   "source": [
    "### 4.1 常规Python函数"
   ]
  },
  {
   "cell_type": "code",
   "execution_count": 2,
   "metadata": {},
   "outputs": [],
   "source": [
    "def f(x):\n",
    "    return x ** 2 - x"
   ]
  },
  {
   "cell_type": "code",
   "execution_count": 3,
   "metadata": {},
   "outputs": [
    {
     "name": "stdout",
     "output_type": "stream",
     "text": [
      "559 ns ± 22.4 ns per loop (mean ± std. dev. of 7 runs, 1000000 loops each)\n"
     ]
    }
   ],
   "source": [
    "%timeit f(100)"
   ]
  },
  {
   "cell_type": "markdown",
   "metadata": {},
   "source": [
    "### 4.2 Cython def函数"
   ]
  },
  {
   "cell_type": "code",
   "execution_count": 20,
   "metadata": {},
   "outputs": [
    {
     "name": "stdout",
     "output_type": "stream",
     "text": [
      "524.2 ns\n"
     ]
    }
   ],
   "source": [
    "%%cython\n",
    "from time import time\n",
    "\n",
    "def f1(x):\n",
    "    return x ** 2 - x\n",
    "\n",
    "n = 10000000\n",
    "start = time()\n",
    "for _ in range(n):\n",
    "    f1(100)\n",
    "end = time()\n",
    "run_time = (end - start) / n * 1000 * 1000 * 1000\n",
    "print(\"%.1f ns\" % run_time)"
   ]
  },
  {
   "cell_type": "code",
   "execution_count": 7,
   "metadata": {},
   "outputs": [
    {
     "name": "stdout",
     "output_type": "stream",
     "text": [
      "512 ns ± 38 ns per loop (mean ± std. dev. of 7 runs, 1000000 loops each)\n"
     ]
    }
   ],
   "source": [
    "%timeit f1(100)"
   ]
  },
  {
   "cell_type": "markdown",
   "metadata": {},
   "source": [
    "### 4.3 Cython cpdef函数"
   ]
  },
  {
   "cell_type": "code",
   "execution_count": 17,
   "metadata": {},
   "outputs": [
    {
     "name": "stdout",
     "output_type": "stream",
     "text": [
      "43.7 ns\n"
     ]
    }
   ],
   "source": [
    "%%cython\n",
    "from time import time\n",
    "\n",
    "cpdef long f2(long x):\n",
    "    return x ** 2 - x\n",
    "\n",
    "n = 10000000\n",
    "start = time()\n",
    "for _ in range(n):\n",
    "    f2(100)\n",
    "end = time()\n",
    "run_time = (end - start) / n * 1000 * 1000 * 1000\n",
    "print(\"%.1f ns\" % run_time)"
   ]
  },
  {
   "cell_type": "code",
   "execution_count": 11,
   "metadata": {},
   "outputs": [
    {
     "name": "stdout",
     "output_type": "stream",
     "text": [
      "81.7 ns ± 5.7 ns per loop (mean ± std. dev. of 7 runs, 10000000 loops each)\n"
     ]
    }
   ],
   "source": [
    "%timeit f2(100)"
   ]
  },
  {
   "cell_type": "markdown",
   "metadata": {},
   "source": [
    "### 4.4 Cython cdef函数"
   ]
  },
  {
   "cell_type": "code",
   "execution_count": 19,
   "metadata": {},
   "outputs": [
    {
     "name": "stdout",
     "output_type": "stream",
     "text": [
      "36.3 ns\n"
     ]
    }
   ],
   "source": [
    "%%cython\n",
    "from time import time\n",
    "\n",
    "cdef long f3(long x):\n",
    "    return x ** 2 - x\n",
    "\n",
    "n = 10000000\n",
    "start = time()\n",
    "for _ in range(n):\n",
    "    f3(100)\n",
    "end = time()\n",
    "run_time = (end - start) / n * 1000 * 1000 * 1000\n",
    "print(\"%.1f ns\" % run_time)"
   ]
  },
  {
   "cell_type": "markdown",
   "metadata": {},
   "source": [
    "## 5. 在Cython中使用Python对象 \n",
    "- 常规Python函数，运行时间549微秒\n",
    "- Python内置函数，运行时间104微秒\n",
    "- Cython函数，运行时间51.6微秒"
   ]
  },
  {
   "cell_type": "code",
   "execution_count": 66,
   "metadata": {},
   "outputs": [],
   "source": [
    "A = list(range(10000))"
   ]
  },
  {
   "cell_type": "markdown",
   "metadata": {},
   "source": [
    "### 5.1 常规Python函数"
   ]
  },
  {
   "cell_type": "code",
   "execution_count": 67,
   "metadata": {},
   "outputs": [],
   "source": [
    "def sum_list(A):\n",
    "    ret = 0\n",
    "    for x in A:\n",
    "        ret += x\n",
    "    return ret"
   ]
  },
  {
   "cell_type": "code",
   "execution_count": 68,
   "metadata": {},
   "outputs": [
    {
     "name": "stdout",
     "output_type": "stream",
     "text": [
      "547 µs ± 70.7 µs per loop (mean ± std. dev. of 7 runs, 1000 loops each)\n"
     ]
    }
   ],
   "source": [
    "%timeit sum_list(A)"
   ]
  },
  {
   "cell_type": "markdown",
   "metadata": {},
   "source": [
    "### 5.2 Python内置函数"
   ]
  },
  {
   "cell_type": "code",
   "execution_count": 69,
   "metadata": {},
   "outputs": [
    {
     "name": "stdout",
     "output_type": "stream",
     "text": [
      "102 µs ± 7.84 µs per loop (mean ± std. dev. of 7 runs, 10000 loops each)\n"
     ]
    }
   ],
   "source": [
    "%timeit sum(A)"
   ]
  },
  {
   "cell_type": "markdown",
   "metadata": {},
   "source": [
    "### 5.3 Cython函数"
   ]
  },
  {
   "cell_type": "code",
   "execution_count": 70,
   "metadata": {},
   "outputs": [],
   "source": [
    "%%cython\n",
    "cpdef int sum_list_cython(A):\n",
    "    cdef int ret, x\n",
    "    for x in A:\n",
    "        ret += x\n",
    "    return ret"
   ]
  },
  {
   "cell_type": "code",
   "execution_count": 71,
   "metadata": {},
   "outputs": [
    {
     "name": "stdout",
     "output_type": "stream",
     "text": [
      "52 µs ± 4.32 µs per loop (mean ± std. dev. of 7 runs, 10000 loops each)\n"
     ]
    }
   ],
   "source": [
    "%timeit sum_list_cython(A)"
   ]
  },
  {
   "cell_type": "markdown",
   "metadata": {},
   "source": [
    "## 6. 在.pyx文件中使用Cython \n",
    "- 建立名为example.pyx的文件\n",
    "- 在控制台使用cythonize命令，将.pyx文件转为.c文件再编译为C模块"
   ]
  },
  {
   "cell_type": "code",
   "execution_count": null,
   "metadata": {},
   "outputs": [],
   "source": [
    "from time import time\n",
    "\n",
    "cdef long f4(long x):\n",
    "    return x ** 2 - x\n",
    "\n",
    "if __name__ == \"__main__\":\n",
    "    cdef int x = 3\n",
    "    print(f4(x))"
   ]
  },
  {
   "cell_type": "markdown",
   "metadata": {},
   "source": [
    "## 参考文章\n",
    "部分内容引用自 - [Cython官方文档](http://docs.cython.org/en/latest/index.html)"
   ]
  },
  {
   "cell_type": "code",
   "execution_count": null,
   "metadata": {},
   "outputs": [],
   "source": []
  }
 ],
 "metadata": {
  "kernelspec": {
   "display_name": "Python 3",
   "language": "python",
   "name": "python3"
  },
  "language_info": {
   "codemirror_mode": {
    "name": "ipython",
    "version": 3
   },
   "file_extension": ".py",
   "mimetype": "text/x-python",
   "name": "python",
   "nbconvert_exporter": "python",
   "pygments_lexer": "ipython3",
   "version": "3.6.6"
  }
 },
 "nbformat": 4,
 "nbformat_minor": 2
}
